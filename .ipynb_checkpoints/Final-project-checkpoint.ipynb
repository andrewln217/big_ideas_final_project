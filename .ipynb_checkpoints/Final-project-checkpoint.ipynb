{
 "cells": [
  {
   "cell_type": "code",
   "execution_count": 2,
   "metadata": {},
   "outputs": [],
   "source": [
    "import pandas as pd\n",
    "import ssl\n",
    "import numpy as np"
   ]
  },
  {
   "cell_type": "code",
   "execution_count": 33,
   "metadata": {},
   "outputs": [],
   "source": [
    "arrest_records = pd.read_csv(\"arrest-data.csv\")\n",
    "fire_records = pd.read_csv(\"fire-incident-data.csv\")"
   ]
  },
  {
   "cell_type": "code",
   "execution_count": 37,
   "metadata": {},
   "outputs": [
    {
     "data": {
      "text/plain": [
       "Central Business District      2131\n",
       "South Side Flats               1953\n",
       "Carrick                        1313\n",
       "East Allegheny                 1235\n",
       "Homewood South                 1138\n",
       "Homewood North                 1036\n",
       "East Liberty                    995\n",
       "Marshall-Shadeland              853\n",
       "Mount Washington                838\n",
       "Bluff                           783\n",
       "Knoxville                       752\n",
       "Hazelwood                       706\n",
       "Lincoln-Lemington-Belmar        697\n",
       "Brookline                       693\n",
       "Beechview                       686\n",
       "Sheraden                        660\n",
       "Allegheny Center                651\n",
       "Perry South                     637\n",
       "Brighton Heights                612\n",
       "East Hills                      580\n",
       "Middle Hill                     569\n",
       "Bloomfield                      551\n",
       "Shadyside                       540\n",
       "Allentown                       539\n",
       "Fineview                        496\n",
       "Central North Side              487\n",
       "Crawford-Roberts                470\n",
       "North Shore                     470\n",
       "South Side Slopes               458\n",
       "Larimer                         452\n",
       "                               ... \n",
       "Upper Lawrenceville             113\n",
       "Morningside                     111\n",
       "Friendship                      107\n",
       "Esplen                          105\n",
       "Duquesne Heights                103\n",
       "Lincoln Place                   101\n",
       "Arlington Heights               100\n",
       "Polish Hill                      98\n",
       "Mount Oliver                     89\n",
       "Golden Triangle/Civic Arena      83\n",
       "Allegheny West                   75\n",
       "Glen Hazel                       69\n",
       "Fairywood                        62\n",
       "Hays                             62\n",
       "Windgap                          60\n",
       "Summer Hill                      45\n",
       "Oakwood                          44\n",
       "Outside State                    39\n",
       "Outside County                   36\n",
       "St. Clair                        30\n",
       "East Carnegie                    27\n",
       "Central Northside                23\n",
       "Chartiers City                   23\n",
       "New Homestead                    22\n",
       "Swisshelm Park                   20\n",
       "Regent Square                    19\n",
       "Ridgemont                        13\n",
       "Mt. Oliver Boro                  12\n",
       "Troy Hill-Herrs Island            6\n",
       "Mt. Oliver Neighborhood           2\n",
       "Name: INCIDENTNEIGHBORHOOD, Length: 98, dtype: int64"
      ]
     },
     "execution_count": 37,
     "metadata": {},
     "output_type": "execute_result"
    }
   ],
   "source": [
    "arrest_records[\"INCIDENTNEIGHBORHOOD\"].value_counts()"
   ]
  },
  {
   "cell_type": "code",
   "execution_count": 38,
   "metadata": {},
   "outputs": [
    {
     "data": {
      "text/plain": [
       "Carrick                      220\n",
       "Central Business District    186\n",
       "South Side Flats             184\n",
       "Hazelwood                    183\n",
       "Squirrel Hill South          178\n",
       "East Liberty                 148\n",
       "Lincoln-Lemington-Belmar     146\n",
       "Homewood North               145\n",
       "Mount Washington             145\n",
       "Sheraden                     134\n",
       "Homewood South               128\n",
       "Perry South                  128\n",
       "Brookline                    127\n",
       "Shadyside                    125\n",
       "East Hills                   121\n",
       "Bloomfield                   120\n",
       "Knoxville                    116\n",
       "Brighton Heights             105\n",
       "Larimer                      102\n",
       "Beechview                    101\n",
       "Beltzhoover                   97\n",
       "Marshall-Shadeland            97\n",
       "Squirrel Hill North           96\n",
       "Central Northside             94\n",
       "North Oakland                 92\n",
       "Allentown                     89\n",
       "Bluff                         87\n",
       "Perry North                   83\n",
       "Greenfield                    82\n",
       "Spring Hill-City View         80\n",
       "                            ... \n",
       "Upper Hill                    34\n",
       "Allegheny West                32\n",
       "California-Kirkbride          31\n",
       "Bedford Dwellings             31\n",
       "Morningside                   26\n",
       "Friendship                    25\n",
       "Polish Hill                   24\n",
       "Duquesne Heights              23\n",
       "Westwood                      21\n",
       "New Homestead                 20\n",
       "Spring Garden                 19\n",
       "South Shore                   18\n",
       "Fairywood                     18\n",
       "Glen Hazel                    17\n",
       "Summer Hill                   16\n",
       "West End                      16\n",
       "Bon Air                       16\n",
       "Windgap                       16\n",
       "Esplen                        15\n",
       "Ridgemont                     12\n",
       "Swisshelm Park                11\n",
       "Chartiers City                11\n",
       "St. Clair                     11\n",
       "Hays                          11\n",
       "Oakwood                       10\n",
       "Arlington Heights              9\n",
       "Mt. Oliver                     7\n",
       "Regent Square                  6\n",
       "East Carnegie                  6\n",
       "Mount Oliver Borough           4\n",
       "Name: neighborhood, Length: 91, dtype: int64"
      ]
     },
     "execution_count": 38,
     "metadata": {},
     "output_type": "execute_result"
    }
   ],
   "source": [
    "fire_records[\"neighborhood\"].value_counts()"
   ]
  },
  {
   "cell_type": "code",
   "execution_count": null,
   "metadata": {},
   "outputs": [],
   "source": []
  }
 ],
 "metadata": {
  "kernelspec": {
   "display_name": "Python 3.7",
   "language": "python",
   "name": "python3"
  },
  "language_info": {
   "codemirror_mode": {
    "name": "ipython",
    "version": 3
   },
   "file_extension": ".py",
   "mimetype": "text/x-python",
   "name": "python",
   "nbconvert_exporter": "python",
   "pygments_lexer": "ipython3",
   "version": "3.7.0"
  }
 },
 "nbformat": 4,
 "nbformat_minor": 4
}
