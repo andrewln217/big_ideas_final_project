{
 "cells": [
  {
   "cell_type": "markdown",
   "metadata": {},
   "source": [
    "**INTRODUCTION**\n",
    "\n",
    "Pittsburgh has many neighborhoods. The question is then asked, which is the best one to live in? Which one of Pittsburgh's many neighborhoods is leads to the best quality of life. We chose to find the least disasterous neighborhood in regards to arrests and fires per capita, due to the varying size of each Pittsburgh neighborhood. Before coming to the conclusion to include population, we were originally going to include crash records as another \"disaster\" that can occur in a neighborhood.\n",
    "\n",
    "**THE METRIC**\n",
    "\n",
    "This led us to believe that safety created the best neighborhood in Pittsburgh. Using data from arrest records and fire incident records, we looked at the frequency per capita they occurred within each neighborhood in Pittsburgh. The fewer records of arrests and fires created a higher safety ranking in proportion to population of the neighborhood."
   ]
  },
  {
   "cell_type": "markdown",
   "metadata": {},
   "source": [
    "**THE BEST NEIGHBORHOOD**\n",
    "\n",
    "According to our safety score, Squirrel Hill North is the safest neighborhood due to its low arrests and low fires per capita. Since without safety, you can't have a good neighborhood, and since Squirrel Hill North is the safest neighborhood in Pittsburgh, it is the best."
   ]
  },
  {
   "cell_type": "markdown",
   "metadata": {},
   "source": [
    "**CONCLUSION**\n",
    "\n",
    "*Josh*\n",
    "\n",
    "For our metric, we chose safety of the neighborhood, which we represented as the proportion of fires and arrests to population. According to our 'safety score', Squirrel Hill North is the best neighborhood in Pittsburgh, due to its extremely high safety score, showing a low amount of crimes and fires proportional to its population. This differs from my personal favorite, as I feel that Shadyside is the best neighborhood in Pittsburgh because of its beautiful houses, options for dining, and general look and feel of the area. Even though it's right next to the hustle and bustle of Oakland, it feels like a different world. The houses are a good size and the streets are beautiful. Shadyside is the 14th safest neighborhood in Pittsburgh, which still is an extremely safe neighborhood, and I feel that the overall feel of Shadyside makes it the best neighborhood in Pittsburgh.\n",
    "\n",
    "*Melanie* \n",
    "\n",
    "With the 'Safety Score' metric, the findings show Squirrel Hill North as being the best neighborhood to live in due to its low fire and arrest incidents proportional to the population. My personal favorite neighborhood is Squirrel Hill South, which ranks 7th according to the Safety Scoring metric. Squirrel Hill South ranks similarly to Squirrel Hill North as there are only 6 neighborhoods separating them in rank, as well as the fact that they are both in the top ten according to our safety metric. While Squirrel Hill South is safe contributes to the fact that is my personal favorite neighborhood. I also appreciate the convenience to Squirrel Hill South from Oakland and the variety of shops and people that live there. The residential areas are gorgeous to walk through, with beautiful homes and some yard space. Murray and Forbes provide con\n",
    "\n",
    "*Andrew*  \n",
    "Unfortunately, I never go outside, so I don't know anything about any of the neighborhoods in Pittsburgh. However, my ideal neighborhood would be one in which I could be safe; if I end up dying, I won't be able to enjoy said neighborhood. Therefore, our safety-based metric seems to fulfill my desire for a safe neighborhood. In our case, \"safety\" included the number of fire incidents and the number of arrests per capita, which I believe should correspond to the likeliness of fire incidents and crimes occurring in those neighborhoods. Based of our data, it appears Squirrel Hill North is the \"safest\" neigborhood, determined by averaging scores based on the number of fire incidents and arrests per capita. Therefore, I would say that Squirrel Hill North is my favorite neighborhood (this is subject to change if I ever decide to go outside and develop new criteria)."
   ]
  },
  {
   "cell_type": "code",
   "execution_count": null,
   "metadata": {},
   "outputs": [],
   "source": []
  }
 ],
 "metadata": {
  "kernelspec": {
   "display_name": "Python 3.7",
   "language": "python",
   "name": "python3"
  },
  "language_info": {
   "codemirror_mode": {
    "name": "ipython",
    "version": 3
   },
   "file_extension": ".py",
   "mimetype": "text/x-python",
   "name": "python",
   "nbconvert_exporter": "python",
   "pygments_lexer": "ipython3",
   "version": "3.7.0"
  }
 },
 "nbformat": 4,
 "nbformat_minor": 4
}
